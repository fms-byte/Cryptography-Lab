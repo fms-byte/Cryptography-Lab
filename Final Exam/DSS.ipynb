{
 "cells": [
  {
   "cell_type": "code",
   "execution_count": 6,
   "metadata": {},
   "outputs": [
    {
     "name": "stdout",
     "output_type": "stream",
     "text": [
      "Value of e1 = 9 , e2 = 4\n",
      "Value of S1 = 1 , S2 = 8\n",
      "Value of V: 1\n",
      "Signature Verified\n"
     ]
    }
   ],
   "source": [
    "q=11\n",
    "p=23\n",
    "d=7\n",
    "r=13\n",
    "hm=9\n",
    "e0=3\n",
    "\n",
    "e1 = pow(e0, (p-1)//q, p)\n",
    "e2 = pow(e1, d, p)\n",
    "print(\"Value of e1 =\",e1,\", e2 =\",e2)\n",
    "\n",
    "s1 = pow(e1, r, p) % q\n",
    "inverse_r = pow(r, -1, q)\n",
    "s2 = ((hm + d*s1)*inverse_r) % q\n",
    "print(\"Value of S1 =\",s1,\", S2 =\",s2)\n",
    "\n",
    "inverse_s2 = pow(s2, -1, q)\n",
    "v = ((pow(e1, hm*inverse_s2)*pow(e2, s1*inverse_s2))%p)%q\n",
    "print(\"Value of V:\", v)\n",
    "\n",
    "if v==s1:\n",
    "    print(\"Signature Verified\")\n",
    "else:\n",
    "    print(\"Not Verified\")\n",
    "\n"
   ]
  }
 ],
 "metadata": {
  "kernelspec": {
   "display_name": "Python 3",
   "language": "python",
   "name": "python3"
  },
  "language_info": {
   "codemirror_mode": {
    "name": "ipython",
    "version": 3
   },
   "file_extension": ".py",
   "mimetype": "text/x-python",
   "name": "python",
   "nbconvert_exporter": "python",
   "pygments_lexer": "ipython3",
   "version": "3.9.0"
  },
  "orig_nbformat": 4
 },
 "nbformat": 4,
 "nbformat_minor": 2
}
