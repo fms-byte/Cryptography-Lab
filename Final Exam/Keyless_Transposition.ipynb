{
 "cells": [
  {
   "cell_type": "code",
   "execution_count": 10,
   "metadata": {},
   "outputs": [
    {
     "name": "stdout",
     "output_type": "stream",
     "text": [
      "Ciphertext:  PYOEOEAMRMNY\n",
      "PAYMOREMONEY\n"
     ]
    }
   ],
   "source": [
    "import numpy as np\n",
    "\n",
    "#Input section\n",
    "plaintext = input(\"Enter the plantext: \")\n",
    "plaintext = plaintext.replace(\" \",\"\")\n",
    "plaintext = plaintext.upper()\n",
    "column = int(input(\"Enter the number of columns: \"))\n",
    "\n",
    "#Add extra characters if necessary\n",
    "if (len(plaintext) % column) != 0:\n",
    "    extra = column - (len(plaintext) % column)\n",
    "    for i in range(extra):\n",
    "        plaintext = plaintext + \"X\"\n",
    "\n",
    "#Encryption Section\n",
    "row = len(plaintext)//column\n",
    "table = np.array([[\"Z\"]*column]*row)\n",
    "index = 0\n",
    "for i in range(row):\n",
    "    for j in range(column):\n",
    "        table[i][j] = plaintext[index]\n",
    "        index = index + 1 \n",
    "\n",
    "ciphertext = \"\"\n",
    "transpose_table = np.transpose(table)\n",
    "for i in range(column):\n",
    "    for j in range(row):\n",
    "        ciphertext = ciphertext + transpose_table[i][j]\n",
    "\n",
    "print(\"Ciphertext: \", ciphertext)\n",
    "\n",
    "#Decryption Section\n",
    "cipher_table = np.array([[\"Z\"]*row]*column)\n",
    "index = 0\n",
    "for i in range(column):\n",
    "    for j in range(row):\n",
    "        cipher_table[i][j] = ciphertext[index]\n",
    "        index = index + 1\n",
    "\n",
    "decrypted_text = \"\"\n",
    "transpose_cipher_table = np.transpose(cipher_table)\n",
    "for i in range (row):\n",
    "    for j in range(column):\n",
    "        decrypted_text = decrypted_text + transpose_cipher_table[i][j]\n",
    "        \n",
    "print(decrypted_text)"
   ]
  }
 ],
 "metadata": {
  "kernelspec": {
   "display_name": "Python 3",
   "language": "python",
   "name": "python3"
  },
  "language_info": {
   "codemirror_mode": {
    "name": "ipython",
    "version": 3
   },
   "file_extension": ".py",
   "mimetype": "text/x-python",
   "name": "python",
   "nbconvert_exporter": "python",
   "pygments_lexer": "ipython3",
   "version": "3.9.0"
  },
  "orig_nbformat": 4
 },
 "nbformat": 4,
 "nbformat_minor": 2
}
