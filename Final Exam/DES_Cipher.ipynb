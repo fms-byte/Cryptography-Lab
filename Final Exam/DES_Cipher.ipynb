{
 "cells": [
  {
   "cell_type": "code",
   "execution_count": 3,
   "metadata": {},
   "outputs": [
    {
     "name": "stdout",
     "output_type": "stream",
     "text": [
      "Ciphertext:  b'TIe+BxJewae6byUrbMvXsjT2fHijexQs'\n",
      "Decrypted text :  This is secret message  \n"
     ]
    }
   ],
   "source": [
    "import base64\n",
    "from Crypto.Cipher import DES \n",
    "from Crypto.Random import get_random_bytes\n",
    "\n",
    "#Input plaintext\n",
    "plaintext = input(\"Enter the plaintext: \");\n",
    "#Padding the plaintext\n",
    "while len(plaintext) % 8 != 0:\n",
    "    plaintext = plaintext + \" \"\n",
    "#Create a random key\n",
    "key = get_random_bytes(8)\n",
    "\n",
    "#Create model of the cipher\n",
    "des = DES.new(key, DES.MODE_ECB)\n",
    "\n",
    "#Encryption Part\n",
    "ciphertext = des.encrypt(plaintext.encode('utf-8'))\n",
    "print(\"Ciphertext: \", base64.b64encode(ciphertext))\n",
    "#Decryptiom Part\n",
    "decryptedtext = des.decrypt(ciphertext)\n",
    "print(\"Decrypted text : \", decryptedtext.decode())\n"
   ]
  }
 ],
 "metadata": {
  "kernelspec": {
   "display_name": "Python 3",
   "language": "python",
   "name": "python3"
  },
  "language_info": {
   "codemirror_mode": {
    "name": "ipython",
    "version": 3
   },
   "file_extension": ".py",
   "mimetype": "text/x-python",
   "name": "python",
   "nbconvert_exporter": "python",
   "pygments_lexer": "ipython3",
   "version": "3.9.0"
  },
  "orig_nbformat": 4
 },
 "nbformat": 4,
 "nbformat_minor": 2
}
