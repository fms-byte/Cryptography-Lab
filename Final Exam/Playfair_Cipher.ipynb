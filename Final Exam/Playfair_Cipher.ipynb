{
 "cells": [
  {
   "cell_type": "code",
   "execution_count": 36,
   "metadata": {},
   "outputs": [],
   "source": [
    "import numpy as np\n",
    "#Declaring the 5*5 key matrix\n",
    "key_matrix = np.array(\n",
    "    [\n",
    "        ['L', 'G', 'D', 'B', 'A'],\n",
    "        ['Q', 'M', 'H', 'E', 'C'],\n",
    "        ['U', 'R', 'N', 'J', 'F'],\n",
    "        ['X', 'V', 'S', 'O', 'K'],\n",
    "        ['Z', 'Y', 'W', 'T', 'P']\n",
    "    ]\n",
    ")\n",
    "#Creating transpose matrix of the key matrix\n",
    "transpose_key_matrix = np.transpose(key_matrix)\n"
   ]
  },
  {
   "cell_type": "code",
   "execution_count": 37,
   "metadata": {},
   "outputs": [
    {
     "name": "stdout",
     "output_type": "stream",
     "text": [
      "Given Plaintext:  Cryptography\n"
     ]
    }
   ],
   "source": [
    "#Input Section\n",
    "plaintext = input(\"Enter the plaintext: \")\n",
    "print(\"Given Plaintext: \", plaintext)\n",
    "#Removing all the whitespaces from the plaintext\n",
    "text = plaintext.replace(\" \",\"\")\n",
    "text_len = len(text)\n",
    "text = text.upper()\n",
    "\n",
    "#Replace all \"I\" in the plaintext to \"j\"\n",
    "text = text.replace(\"I\", \"J\")"
   ]
  },
  {
   "cell_type": "code",
   "execution_count": 38,
   "metadata": {},
   "outputs": [
    {
     "name": "stdout",
     "output_type": "stream",
     "text": [
      "Pairs of plaintext : ['CR', 'YP', 'TO', 'GR', 'AP', 'HY']\n"
     ]
    }
   ],
   "source": [
    "#Make pair of two(different) characters from plaintext\n",
    "plaintextpair = []\n",
    "i = 0\n",
    "while i < text_len:\n",
    "    char1 = text[i]\n",
    "    char2 = \"\"\n",
    "    #If the letter is the last character of the plaintext add a vogus character \"X\"\n",
    "    if (i+1) == len(text):\n",
    "        char2 = \"X\"\n",
    "    #Else add the next character\n",
    "    else:\n",
    "        char2 = text[i+1]\n",
    "    #If the two characters are different insert them in the pair\n",
    "    if char1 != char2:\n",
    "        plaintextpair.append(char1+char2)\n",
    "        i = i+2\n",
    "    #else add \"X\" as the second character\n",
    "    else:\n",
    "        plaintextpair.append(char1+\"X\")\n",
    "        i = i + 1\n",
    "print(\"Pairs of plaintext :\", plaintextpair)\n"
   ]
  },
  {
   "cell_type": "code",
   "execution_count": 39,
   "metadata": {},
   "outputs": [
    {
     "name": "stdout",
     "output_type": "stream",
     "text": [
      "Ciphertext:  MFWZBTMVCAMW\n"
     ]
    }
   ],
   "source": [
    "#Encryption Function\n",
    "ciphertext = \"\"\n",
    "ciphertextpair = []\n",
    "for pair in plaintextpair:\n",
    "    apply_rule = True\n",
    "    #Rule 1: If the two characters are in the same row replace them with their right charater\n",
    "    if apply_rule :\n",
    "        for row in range(5):\n",
    "            if pair[0] in key_matrix[row] and pair[1] in key_matrix[row]:\n",
    "                for i in range(5):\n",
    "                    if key_matrix[row][i]==pair[0]:\n",
    "                        char1 = key_matrix[row][(i+1)%5]\n",
    "                    elif key_matrix[row][i]==pair[1]:\n",
    "                        char2 = key_matrix[row][(i+1)%5]\n",
    "                apply_rule = False\n",
    "                ciphertextpair.append(char1+char2)\n",
    "                ciphertext = ciphertext + char1 + char2\n",
    "\n",
    "    #Rule 2: If the two characters are in the same column replace them with their below character\n",
    "    #for this we will use transpose matrix\n",
    "    if apply_rule :\n",
    "        for column in range(5):\n",
    "            if pair[0] in transpose_key_matrix[column] and pair[1] in transpose_key_matrix[column]:\n",
    "                for i in range(5):\n",
    "                    if transpose_key_matrix[column][i]==pair[0]:\n",
    "                        char1 = transpose_key_matrix[column][(i+1)%5]\n",
    "                    elif transpose_key_matrix[column][i]==pair[1]:\n",
    "                        char2 = transpose_key_matrix[column][(i+1)%5]\n",
    "                apply_rule = False\n",
    "                ciphertextpair.append(char1+char2)\n",
    "                ciphertext = ciphertext + char1 + char2\n",
    "                \n",
    "    #Rule 3: If the two letters are not in the same row or column,replace them with letter\n",
    "    # that is in its own row but in the same column as the other letter.\n",
    "    if apply_rule :\n",
    "        for row in range (5):\n",
    "            for column in range (5):\n",
    "                if key_matrix[row][column] == pair[0]:\n",
    "                    x0 = row\n",
    "                    y0 = column\n",
    "                elif key_matrix[row][column] == pair[1]:\n",
    "                    x1 = row\n",
    "                    y1 = column\n",
    "        char1 = key_matrix[x0][y1]\n",
    "        char2 = key_matrix[x1][y0]\n",
    "        ciphertextpair.append(char1+char2)\n",
    "        ciphertext = ciphertext + char1 + char2\n",
    "print(\"Ciphertext: \", ciphertext)"
   ]
  },
  {
   "cell_type": "code",
   "execution_count": 40,
   "metadata": {},
   "outputs": [
    {
     "name": "stdout",
     "output_type": "stream",
     "text": [
      "Decrypted text:  cryptography\n"
     ]
    }
   ],
   "source": [
    "#Decryption Function\n",
    "decryptedtext = \"\"\n",
    "for pair in ciphertextpair:\n",
    "    apply_rule = True\n",
    "    #Rule 1: If the two characters are in the same row replace them with their left charater\n",
    "    if apply_rule :\n",
    "        for row in range(5):\n",
    "            if pair[0] in key_matrix[row] and pair[1] in key_matrix[row]:\n",
    "                for i in range(5):\n",
    "                    if key_matrix[row][i]==pair[0]:\n",
    "                        char1 = key_matrix[row][(i-1)%5]\n",
    "                    elif key_matrix[row][i]==pair[1]:\n",
    "                        char2 = key_matrix[row][(i-1)%5]\n",
    "                apply_rule = False\n",
    "                decryptedtext = decryptedtext + char1 + char2\n",
    "\n",
    "    #Rule 2: If the two characters are in the same column replace them with their upper character\n",
    "    #for this we will use transpose matrix\n",
    "    if apply_rule :\n",
    "        for column in range(5):\n",
    "            if pair[0] in transpose_key_matrix[column] and pair[1] in transpose_key_matrix[column]:\n",
    "                for i in range(5):\n",
    "                    if transpose_key_matrix[column][i]==pair[0]:\n",
    "                        char1 = transpose_key_matrix[column][(i-1)%5]\n",
    "                    elif transpose_key_matrix[column][i]==pair[1]:\n",
    "                        char2 = transpose_key_matrix[column][(i-1)%5]\n",
    "                apply_rule = False\n",
    "                decryptedtext = decryptedtext + char1 + char2\n",
    "                \n",
    "    #Rule 3: If the two letters are not in the same row or column,replace them with letter\n",
    "    # that is in its own row but in the same column as the other letter.\n",
    "    if apply_rule :\n",
    "        for row in range (5):\n",
    "            for column in range (5):\n",
    "                if key_matrix[row][column] == pair[0]:\n",
    "                    x0 = row\n",
    "                    y0 = column\n",
    "                elif key_matrix[row][column] == pair[1]:\n",
    "                    x1 = row\n",
    "                    y1 = column\n",
    "        char1 = key_matrix[x0][y1]\n",
    "        char2 = key_matrix[x1][y0]\n",
    "        decryptedtext = decryptedtext + char1 + char2\n",
    "print(\"Decrypted text: \", decryptedtext.lower())"
   ]
  }
 ],
 "metadata": {
  "kernelspec": {
   "display_name": "Python 3",
   "language": "python",
   "name": "python3"
  },
  "language_info": {
   "codemirror_mode": {
    "name": "ipython",
    "version": 3
   },
   "file_extension": ".py",
   "mimetype": "text/x-python",
   "name": "python",
   "nbconvert_exporter": "python",
   "pygments_lexer": "ipython3",
   "version": "3.9.0"
  },
  "orig_nbformat": 4
 },
 "nbformat": 4,
 "nbformat_minor": 2
}
