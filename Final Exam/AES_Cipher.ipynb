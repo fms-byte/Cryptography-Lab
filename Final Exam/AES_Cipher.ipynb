{
 "cells": [
  {
   "cell_type": "code",
   "execution_count": 4,
   "metadata": {},
   "outputs": [
    {
     "name": "stdout",
     "output_type": "stream",
     "text": [
      "Ciphertext :  b'28J/2i8J42YGe9Fw5QSpINbMAxYo7Gb1'\n",
      "Tag :  b'\\rn\\xad%\\xc67\\x19\\xa4s\\x87\\x15\\xb9*\\x8a\\x1f\\xf2'\n",
      "This is a secret message\n"
     ]
    }
   ],
   "source": [
    "import base64\n",
    "from Crypto.Cipher import AES \n",
    "from Crypto.Random import get_random_bytes\n",
    "\n",
    "plaintext = b'This is a secret message'\n",
    "key = get_random_bytes(16)\n",
    "\n",
    "cipher = AES.new(key, AES.MODE_EAX)\n",
    "ciphertext, tag = cipher.encrypt_and_digest(plaintext)\n",
    "print(\"Ciphertext : \", base64.b64encode(ciphertext))\n",
    "print(\"Tag : \", tag)\n",
    "\n",
    "decrypt_cipher = AES.new(key, AES.MODE_EAX, nonce=cipher.nonce)\n",
    "decrypted_text =decrypt_cipher.decrypt_and_verify(ciphertext, tag)\n",
    "print(\"Decrypted text: \", decrypted_text.decode())"
   ]
  }
 ],
 "metadata": {
  "kernelspec": {
   "display_name": "Python 3",
   "language": "python",
   "name": "python3"
  },
  "language_info": {
   "codemirror_mode": {
    "name": "ipython",
    "version": 3
   },
   "file_extension": ".py",
   "mimetype": "text/x-python",
   "name": "python",
   "nbconvert_exporter": "python",
   "pygments_lexer": "ipython3",
   "version": "3.9.0"
  },
  "orig_nbformat": 4
 },
 "nbformat": 4,
 "nbformat_minor": 2
}
