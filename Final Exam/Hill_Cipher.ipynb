{
 "cells": [
  {
   "cell_type": "code",
   "execution_count": 58,
   "metadata": {},
   "outputs": [],
   "source": [
    "import numpy as np\n",
    "#Define the key matrix\n",
    "key_matrix = np.array(\n",
    "    [\n",
    "        [9, 7, 11, 13],\n",
    "        [4, 7, 5, 6],\n",
    "        [2, 21, 14, 9],\n",
    "        [3, 23, 21, 8]\n",
    "    ]\n",
    ")\n",
    "#Finding inverse of the key matrix\n",
    "det = int(np.round(np.linalg.det(key_matrix)))\n",
    "det_inv = pow(det, -1, 26)\n",
    "inv_key_matrix = det_inv * (np.round(det*np.linalg.inv(key_matrix)).astype(int)) %26"
   ]
  },
  {
   "cell_type": "code",
   "execution_count": 59,
   "metadata": {},
   "outputs": [
    {
     "name": "stdout",
     "output_type": "stream",
     "text": [
      "PAYMOREMONEYNOWX\n",
      "Plaintext array of numerical values: \n",
      " [[15  0 24 12]\n",
      " [14 17  4 12]\n",
      " [14 13  4 24]\n",
      " [13 14 22 23]]\n"
     ]
    }
   ],
   "source": [
    "#Input section\n",
    "plaintext = input(\"Enter the plaintext: \")\n",
    "text = plaintext.replace(\" \",\"\")\n",
    "text_len = len(text)\n",
    "key_len = len(key_matrix)\n",
    "text = text.upper()\n",
    "\n",
    "#Add extra character if required\n",
    "if (text_len % key_len) !=0:\n",
    "    extra = key_len - (text_len % key_len)\n",
    "    for i in range (extra):\n",
    "        text = text + \"X\"\n",
    "print(text)\n",
    "\n",
    "#Create plaintext array\n",
    "text_len = len(text)\n",
    "text_array = np.zeros(text_len, dtype=int)\n",
    "\n",
    "i = 0\n",
    "for char in text:\n",
    "    value = ord(char) - 65\n",
    "    text_array[i] = value\n",
    "    i = i + 1\n",
    "    \n",
    "column = len(key_matrix)\n",
    "row =  len(text_array)//column\n",
    "#Reshaping the array\n",
    "text_array = text_array.reshape(row, column)\n",
    "print(\"Plaintext array of numerical values: \\n\",text_array)\n"
   ]
  },
  {
   "cell_type": "code",
   "execution_count": 60,
   "metadata": {},
   "outputs": [
    {
     "name": "stdout",
     "output_type": "stream",
     "text": [
      "Ciphertext:  lbznefbaytzuakql\n",
      "Decrypted plaintext:  paymoremoneynowx\n"
     ]
    }
   ],
   "source": [
    "#Encryption Section\n",
    "cipher_array = np.dot(text_array, key_matrix)%26\n",
    "ciphertext = \"\"\n",
    "for i in range(row):\n",
    "    for j in range(column):\n",
    "        char = chr(cipher_array[i][j]+97)\n",
    "        ciphertext = ciphertext + char\n",
    "print(\"Ciphertext: \",ciphertext)\n",
    "\n",
    "#Decryption Section\n",
    "decrypted_array = np.dot(cipher_array, inv_key_matrix)%26\n",
    "decrypted_text = \"\"\n",
    "for i in range(row):\n",
    "    for j in range(column):\n",
    "        char = chr(decrypted_array[i][j]+97)\n",
    "        decrypted_text = decrypted_text + char\n",
    "print(\"Decrypted plaintext: \",decrypted_text)"
   ]
  }
 ],
 "metadata": {
  "kernelspec": {
   "display_name": "Python 3",
   "language": "python",
   "name": "python3"
  },
  "language_info": {
   "codemirror_mode": {
    "name": "ipython",
    "version": 3
   },
   "file_extension": ".py",
   "mimetype": "text/x-python",
   "name": "python",
   "nbconvert_exporter": "python",
   "pygments_lexer": "ipython3",
   "version": "3.9.0"
  },
  "orig_nbformat": 4
 },
 "nbformat": 4,
 "nbformat_minor": 2
}
