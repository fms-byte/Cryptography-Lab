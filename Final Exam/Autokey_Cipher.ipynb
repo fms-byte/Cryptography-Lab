{
 "cells": [
  {
   "cell_type": "code",
   "execution_count": 14,
   "metadata": {},
   "outputs": [],
   "source": [
    "#Key generation\n",
    "#It returns the key stream as a list of the key and integer values of plaintext characters\n",
    "def key_generation(key, plaintext):\n",
    "    text_len = len(plaintext)\n",
    "    key_stream = [key]*text_len\n",
    "    text = plaintext.lower()\n",
    "    i = 1\n",
    "    for char in text:\n",
    "        order = ord(char)\n",
    "        if order>=65 and order<=90:\n",
    "            order = order - 65\n",
    "            key_stream[i] = order\n",
    "            i = i + 1\n",
    "    return key_stream"
   ]
  },
  {
   "cell_type": "code",
   "execution_count": 15,
   "metadata": {},
   "outputs": [],
   "source": [
    "#Encryption Function\n",
    "def encryption(plaintext, key_stream):\n",
    "    text = plaintext.lower()\n",
    "    text_len = len(text)\n",
    "    ciphertext = \"\"\n",
    "    j = 0\n",
    "    for i in range (text_len):\n",
    "        order = ord(text[i])\n",
    "        if order>=97 and order<=122:\n",
    "            key1 = key_stream[j]\n",
    "            j = j + 1\n",
    "            order = order - 97\n",
    "            order = (order + key1) % 26\n",
    "            order = order + 97\n",
    "            new_char = chr(order)\n",
    "            ciphertext = ciphertext + new_char\n",
    "        else:\n",
    "            ciphertext = ciphertext + text[i]\n",
    "    return ciphertext\n",
    "            "
   ]
  },
  {
   "cell_type": "code",
   "execution_count": 16,
   "metadata": {},
   "outputs": [],
   "source": [
    "#Decryption Function\n",
    "def decryption(ciphertext, key_stream):\n",
    "    text = ciphertext.upper()\n",
    "    text_len = len(text)\n",
    "    plaintext = \"\"\n",
    "    j = 0\n",
    "    for i in range (text_len):\n",
    "        order = ord(text[i])\n",
    "        #Range for uppercase letter is 65 to 90\n",
    "        if order>=65 and order<=90:\n",
    "            key1 = key_stream[j]\n",
    "            j = j + 1\n",
    "            order = order - 65\n",
    "            order = (order - key1) % 26\n",
    "            order = order + 65\n",
    "            new_char = chr(order)\n",
    "            plaintext = plaintext + new_char\n",
    "        else:\n",
    "            plaintext = plaintext + text[i]\n",
    "    return plaintext"
   ]
  },
  {
   "cell_type": "code",
   "execution_count": 17,
   "metadata": {},
   "outputs": [
    {
     "name": "stdout",
     "output_type": "stream",
     "text": [
      "Entered plaintext :  Momtaj Hossain Mow\n",
      "Entered key :  12\n",
      "Ciphertext :  yayfmv taeemuz yai\n",
      "Decrypted text :  MOMTAJ HOSSAIN MOW\n"
     ]
    }
   ],
   "source": [
    "#Input Section\n",
    "plaintext = input(\"Enter the plaintext : \")\n",
    "key = int(input(\"Enter the key : \"))\n",
    "\n",
    "#Function Calling\n",
    "key_stream = key_generation(key, plaintext)\n",
    "ciphertext = encryption(plaintext, key_stream)\n",
    "decrypted_text = decryption(ciphertext, key_stream)\n",
    "\n",
    "#Output Section\n",
    "print(\"Entered plaintext : \", plaintext)\n",
    "print(\"Entered key : \", key)\n",
    "print(\"Ciphertext : \", ciphertext)\n",
    "print(\"Decrypted text : \", decrypted_text)"
   ]
  }
 ],
 "metadata": {
  "kernelspec": {
   "display_name": "Python 3",
   "language": "python",
   "name": "python3"
  },
  "language_info": {
   "codemirror_mode": {
    "name": "ipython",
    "version": 3
   },
   "file_extension": ".py",
   "mimetype": "text/x-python",
   "name": "python",
   "nbconvert_exporter": "python",
   "pygments_lexer": "ipython3",
   "version": "3.9.0"
  },
  "orig_nbformat": 4
 },
 "nbformat": 4,
 "nbformat_minor": 2
}
