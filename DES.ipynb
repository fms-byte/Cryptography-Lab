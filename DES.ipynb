{
 "cells": [
  {
   "cell_type": "code",
   "execution_count": 21,
   "metadata": {},
   "outputs": [],
   "source": [
    "#A python code for encryption by using the data encryption standard\n",
    "#Import the DES function from Crypto module\n",
    "import base64\n",
    "from Crypto.Cipher import DES"
   ]
  },
  {
   "cell_type": "code",
   "execution_count": 22,
   "metadata": {},
   "outputs": [],
   "source": [
    "#This is the key for encryption\n",
    "key = 'hello123'"
   ]
  },
  {
   "cell_type": "code",
   "execution_count": 23,
   "metadata": {},
   "outputs": [],
   "source": [
    "# This function is for the adding extra text to the plaintext if it does not fill the block\n",
    "# The block size is 64bit\n",
    "def pad(text):\n",
    "    # DES Algorithm works with 8 byte thats why we divided it by 8.\n",
    "    # If the length of given text is multiple of 8 then exit form the while loop.\n",
    "    while len(text) % 8 != 0:\n",
    "        text = text + ' '\n",
    "    return text"
   ]
  },
  {
   "cell_type": "code",
   "execution_count": 24,
   "metadata": {},
   "outputs": [],
   "source": [
    "# Create the object of the DES and pass the appropriate parameter.\n",
    "# Second parameter is the encryption mode . Several encryption mode are available.\n",
    "# 'utf-8' encode the string to bytes.As DES require the byte as parameter.\n",
    "des = DES.new(key.encode('utf-8'),DES.MODE_ECB)"
   ]
  },
  {
   "cell_type": "code",
   "execution_count": 25,
   "metadata": {},
   "outputs": [],
   "source": [
    "text = 'Momtaj Hossain Mow'\n",
    "padded_text = pad(text)"
   ]
  },
  {
   "cell_type": "code",
   "execution_count": 26,
   "metadata": {},
   "outputs": [],
   "source": [
    "# This encryption function is uesed to encrypt the message.\n",
    "encrypted_text = des.encrypt(padded_text.encode('utf-8'))"
   ]
  },
  {
   "cell_type": "code",
   "execution_count": 27,
   "metadata": {},
   "outputs": [
    {
     "name": "stdout",
     "output_type": "stream",
     "text": [
      "The Encrypted text is : b'3\\x9d\\x8b\\xdd\\x17s\\xde\\x1f\\xcf$H\\xef]\\x18\\x97\\xbf\\xef+\\xf5\\xac\\x0e\\xcdO3'\n",
      "The ecnrypted text in character formate : b'M52L3Rdz3h/PJEjvXRiXv+8r9awOzU8z'\n"
     ]
    }
   ],
   "source": [
    "print(\"The Encrypted text is :\",encrypted_text)\n",
    "print(\"The ecnrypted text in character formate :\",base64.b64encode(encrypted_text))"
   ]
  },
  {
   "cell_type": "code",
   "execution_count": 28,
   "metadata": {},
   "outputs": [
    {
     "name": "stdout",
     "output_type": "stream",
     "text": [
      "The Encrypted text is : b'3\\x9d\\x8b\\xdd\\x17s\\xde\\x1f\\xcf$H\\xef]\\x18\\x97\\xbf\\xef+\\xf5\\xac\\x0e\\xcdO3'\n",
      "The encrypted text in character formate : b'M52L3Rdz3h/PJEjvXRiXv+8r9awOzU8z'\n"
     ]
    }
   ],
   "source": [
    "print(\"The Encrypted text is :\",encrypted_text)\n",
    "print(\"The encrypted text in character format :\",base64.b64encode(encrypted_text))"
   ]
  },
  {
   "cell_type": "code",
   "execution_count": 29,
   "metadata": {},
   "outputs": [],
   "source": [
    "# This decrypt function is used to decrypt the encrypted message.\n",
    "decrypted_text = des.decrypt(encrypted_text)"
   ]
  },
  {
   "cell_type": "code",
   "execution_count": 30,
   "metadata": {},
   "outputs": [
    {
     "name": "stdout",
     "output_type": "stream",
     "text": [
      "The Decrypted text is : Momtaj Hossain Mow      \n"
     ]
    }
   ],
   "source": [
    "print(\"The Decrypted text is :\",decrypted_text.decode())"
   ]
  }
 ],
 "metadata": {
  "kernelspec": {
   "display_name": "Python 3",
   "language": "python",
   "name": "python3"
  },
  "language_info": {
   "codemirror_mode": {
    "name": "ipython",
    "version": 3
   },
   "file_extension": ".py",
   "mimetype": "text/x-python",
   "name": "python",
   "nbconvert_exporter": "python",
   "pygments_lexer": "ipython3",
   "version": "3.9.0"
  },
  "orig_nbformat": 4
 },
 "nbformat": 4,
 "nbformat_minor": 2
}
