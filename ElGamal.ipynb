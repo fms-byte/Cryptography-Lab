{
  "cells": [
    {
      "cell_type": "code",
      "execution_count": 1,
      "metadata": {
        "id": "zYvSwJrCHOhq"
      },
      "outputs": [],
      "source": [
        "# Sympy is a Python library for symbolic mathematics.\n",
        "from sympy import primitive_root,randprime\n",
        "import random"
      ]
    },
    {
      "cell_type": "code",
      "execution_count": 2,
      "metadata": {
        "id": "mdCu60VLKBna"
      },
      "outputs": [],
      "source": [
        "# The number for which you want to find the primitive root\n",
        "prime = randprime(124,10**3)\n",
        "root = primitive_root(prime)"
      ]
    },
    {
      "cell_type": "code",
      "execution_count": 3,
      "metadata": {
        "id": "6-_RQXiOIuzz"
      },
      "outputs": [],
      "source": [
        "d=random.randint(1,(prime-2)) # It is private key."
      ]
    },
    {
      "cell_type": "code",
      "execution_count": 4,
      "metadata": {
        "id": "16J5tog0JiYf"
      },
      "outputs": [],
      "source": [
        "e=(pow(root,d)%prime)  # It is public key.\n",
        "r=random.randint(1,10)  # Select a random integer."
      ]
    },
    {
      "cell_type": "code",
      "execution_count": 5,
      "metadata": {
        "id": "s6kUjxQrRyuy"
      },
      "outputs": [],
      "source": [
        "#Define the plaintext.\n",
        "plaintext = \"This is a secret message\""
      ]
    },
    {
      "cell_type": "code",
      "execution_count": 6,
      "metadata": {
        "colab": {
          "base_uri": "https://localhost:8080/"
        },
        "id": "UVkhPrsXKF3x",
        "outputId": "208f3350-3179-4518-938a-3096c58333a7"
      },
      "outputs": [
        {
          "name": "stdout",
          "output_type": "stream",
          "text": [
            "[(278, 25), (278, 102), (278, 311), (278, 163), (278, 347), (278, 311), (278, 163), (278, 347), (278, 131), (278, 347), (278, 163), (278, 221), (278, 176), (278, 327), (278, 221), (278, 372), (278, 347), (278, 28), (278, 221), (278, 163), (278, 163), (278, 131), (278, 266), (278, 221)]\n"
          ]
        }
      ],
      "source": [
        "# Encryption Algorithm.\n",
        "ciphertext=[]\n",
        "for char in plaintext:\n",
        "  ciphertext1=(pow(root,r)%prime)\n",
        "  ciphertext2=((ord(char)*pow(e,r))%prime)\n",
        "  ciphertext.append((ciphertext1,ciphertext2))\n",
        "print(ciphertext)"
      ]
    },
    {
      "cell_type": "code",
      "execution_count": 7,
      "metadata": {
        "colab": {
          "base_uri": "https://localhost:8080/"
        },
        "id": "VC6oh7ONMDer",
        "outputId": "8ec95587-6727-446a-a36a-ef2097b6e637"
      },
      "outputs": [
        {
          "name": "stdout",
          "output_type": "stream",
          "text": [
            "This is a secret message\n"
          ]
        }
      ],
      "source": [
        "#Decryption Algorithm\n",
        "plaintext=\"\"\n",
        "for pair in ciphertext:\n",
        "  ciphertext1,ciphertext2=pair\n",
        "  value=pow(ciphertext1,d)\n",
        "  multinv = pow(value,-1,prime)\n",
        "  decrypt_char = (ciphertext2*multinv) % prime\n",
        "  plaintext += chr(decrypt_char)\n",
        "print(plaintext)"
      ]
    }
  ],
  "metadata": {
    "colab": {
      "provenance": []
    },
    "kernelspec": {
      "display_name": "Python 3",
      "name": "python3"
    },
    "language_info": {
      "codemirror_mode": {
        "name": "ipython",
        "version": 3
      },
      "file_extension": ".py",
      "mimetype": "text/x-python",
      "name": "python",
      "nbconvert_exporter": "python",
      "pygments_lexer": "ipython3",
      "version": "3.9.0"
    }
  },
  "nbformat": 4,
  "nbformat_minor": 0
}
