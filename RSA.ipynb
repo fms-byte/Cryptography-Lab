{
  "cells": [
    {
      "cell_type": "code",
      "execution_count": 15,
      "metadata": {
        "colab": {
          "base_uri": "https://localhost:8080/"
        },
        "id": "X5nrOYEcpHrz",
        "outputId": "bbf181b9-a96a-47a6-8edc-a2dc01a2015f"
      },
      "outputs": [],
      "source": [
        "#A Python Code for Encryption Using RSA Algorithm\n",
        "from Crypto.PublicKey import RSA\n",
        "from Crypto.Cipher import PKCS1_OAEP\n"
      ]
    },
    {
      "cell_type": "code",
      "execution_count": 16,
      "metadata": {},
      "outputs": [],
      "source": [
        "#Function for generating public and private key\n",
        "def generate_key_pair():\n",
        "    key = RSA.generate(2048)\n",
        "    public_key = key.publickey().export_key()\n",
        "    private_key = key.export_key()\n",
        "    return public_key, private_key"
      ]
    },
    {
      "cell_type": "code",
      "execution_count": 17,
      "metadata": {},
      "outputs": [],
      "source": [
        "#Encryption Function\n",
        "def encrypt(message, public_key):\n",
        "    cipher = PKCS1_OAEP.new(RSA.import_key(public_key))\n",
        "    encrypted_message = cipher.encrypt(message)\n",
        "    return encrypted_message"
      ]
    },
    {
      "cell_type": "code",
      "execution_count": 13,
      "metadata": {},
      "outputs": [],
      "source": [
        "#Decryption Function\n",
        "def decrypt(encrypted_message, private_key):\n",
        "    cipher = PKCS1_OAEP.new(RSA.import_key(private_key))\n",
        "    decrypted_message = cipher.decrypt(encrypted_message)\n",
        "    return decrypted_message"
      ]
    },
    {
      "cell_type": "code",
      "execution_count": 14,
      "metadata": {},
      "outputs": [
        {
          "name": "stdout",
          "output_type": "stream",
          "text": [
            "Plaintext: b'This is a secret message from TAJ'\n",
            "----output----\n",
            "Encrypted message: 7b949749b675dc04184334686aa5795706d9b98b8346cf75766a13113310e9dbf2df72d0756c847e19349e39a158009c046c693b9a05a6480edf7d0dd38df05c1253c6962304a29386e1e790cca88f55e26a6c0f85d58b2c4695214953cad4d45e7d719e543fbd6f521ab88767de01267afa63b20b2fac0568680d3c5f15249349f5c5af586a1dfd6a1ffb3ef9372521db2e07a6fee0c0ef8c0f5641ff08e9d149af009ecca5863f9124b15c9af4449d9d0aa0f40f4b83b3f50de6753ce8daa35a03eb26af72cb72697ddc04cd4ce337fb6627c7a51df7a85048d53a21c459561b978d742c1f672c1bf92ea5d284e721ada28c66596838e087f5cacbe535a340\n",
            "Decrypted message: This is a secret message from TAJ\n"
          ]
        }
      ],
      "source": [
        "# Example usage\n",
        "plaintext = b\"This is a secret message from TAJ\"\n",
        "print(\"Plaintext:\", plaintext)\n",
        "print(\"----output----\")\n",
        "# Generate key pair\n",
        "public_key, private_key = generate_key_pair()\n",
        "# Encrypt the message\n",
        "encrypted_message = encrypt(plaintext, public_key)\n",
        "print(\"Encrypted message:\", encrypted_message.hex())\n",
        "# Decrypt the message\n",
        "decrypted_message = decrypt(encrypted_message, private_key)\n",
        "print(\"Decrypted message:\", decrypted_message.decode())"
      ]
    }
  ],
  "metadata": {
    "colab": {
      "provenance": []
    },
    "kernelspec": {
      "display_name": "Python 3",
      "name": "python3"
    },
    "language_info": {
      "codemirror_mode": {
        "name": "ipython",
        "version": 3
      },
      "file_extension": ".py",
      "mimetype": "text/x-python",
      "name": "python",
      "nbconvert_exporter": "python",
      "pygments_lexer": "ipython3",
      "version": "3.9.0"
    }
  },
  "nbformat": 4,
  "nbformat_minor": 0
}
