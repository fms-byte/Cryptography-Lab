{
 "cells": [
  {
   "cell_type": "code",
   "execution_count": null,
   "metadata": {},
   "outputs": [],
   "source": [
    "# A python code for encryption by using AES.\n",
    "import base64\n",
    "from Crypto.Cipher import AES\n",
    "from Crypto.Random import get_random_bytes"
   ]
  },
  {
   "cell_type": "code",
   "execution_count": 10,
   "metadata": {},
   "outputs": [],
   "source": [
    "# Define the plaintext and key\n",
    "# A byte string, also known as a bytes literal, is a sequence of bytes.\n",
    "# It represents raw binary data and is generally used to handle non-textual or binary data, such as images, audio files, or network protocols.\n",
    "plaintext = b'This is a secret message'"
   ]
  },
  {
   "cell_type": "code",
   "execution_count": 11,
   "metadata": {},
   "outputs": [],
   "source": [
    "# In Python, the get_random_bytes() function is typically provided by a cryptographic library, such as Crypto.Random from the pycryptodome library or secrets module from the standard library.\n",
    "# The get_random_bytes() function takes a parameter that specifies the desired length of the random byte string to generate.In this case, the parameter is 16, which corresponds to 16 bytes or 128 bits.\n",
    "key = get_random_bytes(16)"
   ]
  },
  {
   "cell_type": "code",
   "execution_count": 12,
   "metadata": {},
   "outputs": [],
   "source": [
    "# Create an AES cipher object with a 128-bit key\n",
    "# This three parameter and last parameter which may vary from mode to mode.\n",
    "# If CRT Mode it must pass the initial vector counter(IV).\n",
    "cipher = AES.new(key, AES.MODE_EAX)  # (Authenticated Encryption with Associated Data, Xor)."
   ]
  },
  {
   "cell_type": "code",
   "execution_count": 13,
   "metadata": {},
   "outputs": [],
   "source": [
    "# Encrypt the plaintext\n",
    "# The tag variable represents the authentication tag that is generated during the encryption process using an authenticated encryption mode like AES.MODE_EAX.\n",
    "# The authentication tag provides a unique identifier for the encrypted data, ensuring that it has not been tampered with or modified.\n",
    "# During decryption, the authentication tag is also recalculated based on the decrypted ciphertext, the secret key, and the associated data.\n",
    "# The calculated authentication tag is compared with the received authentication tag.\n",
    "# If the calculated tag matches the received tag, it indicates that the ciphertext has not been tampered with and is authentic. The receiver can trust the integrity of the decrypted data.\n",
    "ciphertext, tag = cipher.encrypt_and_digest(plaintext)"
   ]
  },
  {
   "cell_type": "code",
   "execution_count": 14,
   "metadata": {},
   "outputs": [
    {
     "name": "stdout",
     "output_type": "stream",
     "text": [
      "Ciphertext: b'4\\xa6i\\xd6.T\\xb0>\\x1fG/m\\x7f-:\\xed\\tz\\xb4\\x00\\xe0\\xb6\\xe5^'\n",
      "Ciphertext : b'NKZp1i5UsD4fRy9tfy067Ql6tADgtuVe'\n",
      "Tag: b'6\\x85)\\xd5Pa\\xd9v\\x7f_\\xfe\\x0e\\x11\\x18yW'\n"
     ]
    }
   ],
   "source": [
    "# Print the encrypted ciphertext and tag\n",
    "print(\"Ciphertext:\", ciphertext)\n",
    "print(\"Ciphertext :\",base64.b64encode(ciphertext))\n",
    "print(\"Tag:\", tag)"
   ]
  },
  {
   "attachments": {},
   "cell_type": "markdown",
   "metadata": {},
   "source": [
    "--> Decryption"
   ]
  },
  {
   "cell_type": "code",
   "execution_count": 15,
   "metadata": {},
   "outputs": [],
   "source": [
    "# Create a new AES cipher object with the same key\n",
    "# The nonce (number used once) is a crucial component in symmetric key encryption algorithms, particularly in modes like AES.MODE_EAX.\n",
    "# It serves as an additional input to the encryption algorithm and helps ensure the uniqueness and security of the ciphertext produced.\n",
    "decrypt_cipher = AES.new(key, AES.MODE_EAX, nonce=cipher.nonce)"
   ]
  },
  {
   "cell_type": "code",
   "execution_count": 16,
   "metadata": {},
   "outputs": [
    {
     "name": "stdout",
     "output_type": "stream",
     "text": [
      "Decrypted plaintext: This is a secret message\n"
     ]
    }
   ],
   "source": [
    "# Decrypt the ciphertext\n",
    "decrypted_plaintext = decrypt_cipher.decrypt_and_verify(ciphertext, tag)\n",
    "\n",
    "# Print the decrypted plaintext\n",
    "print(\"Decrypted plaintext:\", decrypted_plaintext.decode())"
   ]
  }
 ],
 "metadata": {
  "kernelspec": {
   "display_name": "Python 3",
   "language": "python",
   "name": "python3"
  },
  "language_info": {
   "codemirror_mode": {
    "name": "ipython",
    "version": 3
   },
   "file_extension": ".py",
   "mimetype": "text/x-python",
   "name": "python",
   "nbconvert_exporter": "python",
   "pygments_lexer": "ipython3",
   "version": "3.12.3"
  },
  "orig_nbformat": 4
 },
 "nbformat": 4,
 "nbformat_minor": 2
}
